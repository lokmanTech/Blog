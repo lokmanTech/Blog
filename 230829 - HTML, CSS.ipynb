{
 "cells": [
  {
   "cell_type": "raw",
   "metadata": {},
   "source": [
    "<script>\n",
    "  function code_toggle() {\n",
    "    if (code_shown){\n",
    "      $('div.input').hide('500');\n",
    "      $('#toggleButton').val('Show Code')\n",
    "    } else {\n",
    "      $('div.input').show('500');\n",
    "      $('#toggleButton').val('Hide Code')\n",
    "    }\n",
    "    code_shown = !code_shown\n",
    "  }\n",
    "\n",
    "  $( document ).ready(function(){\n",
    "    code_shown=false;\n",
    "    $('div.input').hide()\n",
    "  });\n",
    "</script>\n",
    "<form action=\"javascript:code_toggle()\"><input type=\"submit\" id=\"toggleButton\" value=\"Show Code\"></form>"
   ]
  },
  {
   "cell_type": "markdown",
   "metadata": {},
   "source": [
    "#Intro to HTML\n",
    "\n",
    "### Just wanted to share my thoughts on the \"Learn HTML: Introduction to HTML\" course with the amazing instructor Jen Kramer. 🚀\n",
    "\n",
    "🌐 As someone who's passionate about web development, diving into the fundamentals of HTML was a game-changer for me. Here's why this course really stood out:\n",
    "\n",
    "* 🎯 Expert Guidance : Jen Kramer's expertise in teaching HTML is truly remarkable.\n",
    "* 📚 Well-Structured Content: This logical progression helped the audience grasp HTML's core principles effectively.\n",
    "* 💻 Hands-On Experience: What's learning without practice, right?\n",
    "* 🌐 Real-World Relevance: The practical insights shared in the course were invaluable.\n",
    "* 🤖 Interactive Learning: The interactive quizzes and challenges throughout the course kept me engaged and motivated. It felt like a true learning journey rather than just passive consumption of information.\n",
    "* 🚀 User-Friendly Platform: Kudos to frontendmaster.com for providing such a user-friendly platform.\n",
    "\n",
    "Whether you're a beginner looking to dive into web development or someone looking to brush up on your HTML skills, I highly recommend checking out this course. It's been an incredible learning experience that has set a strong foundation for web development journey.\n",
    "\n",
    "Let's keep learning and growing together! 🌱💪\n",
    "\n",
    "#WebDevelopment #HTML #FrontendMaster #LearningJourney #WebDev #AlwaysLearning"
   ]
  },
  {
   "cell_type": "markdown",
   "metadata": {},
   "source": []
  },
  {
   "cell_type": "markdown",
   "metadata": {},
   "source": [
    "<iframe src=\"https://www.linkedin.com/embed/feed/update/urn:li:share:7102224186965688320\" height=\"300\" width=\"300\" frameborder=\"0\" allowfullscreen=\"\" title=\"Embedded post\"></iframe>"
   ]
  }
 ],
 "metadata": {
  "kernelspec": {
   "display_name": "Python 3",
   "language": "python",
   "name": "python3"
  },
  "language_info": {
   "codemirror_mode": {
    "name": "ipython",
    "version": 3
   },
   "file_extension": ".py",
   "mimetype": "text/x-python",
   "name": "python",
   "nbconvert_exporter": "python",
   "pygments_lexer": "ipython3",
   "version": "3.11.5"
  },
  "orig_nbformat": 4
 },
 "nbformat": 4,
 "nbformat_minor": 2
}
