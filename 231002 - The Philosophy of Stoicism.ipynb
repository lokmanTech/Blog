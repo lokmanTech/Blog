{
 "cells": [
  {
   "cell_type": "markdown",
   "metadata": {},
   "source": [
    "# The Philosophy of Stoicism \n",
    "\n",
    "<blockquote>We suffer more in imagination than in reality - Seneca</blockquote>\n",
    "\n",
    "source: \n",
    "<ul>\n",
    "    <li> [The philosophy of Stoicism - Massimo Pigluiccie](https://www.youtube.com/watch?v=R9OCA6UFE-0)</li>\n",
    "    <li> [Stoicism: Become Undefeatable By Apeture](https://www.youtube.com/watch?v=EFkyxzJtiv4)</li>\n",
    "</ul>\n"
   ]
  }
 ],
 "metadata": {
  "language_info": {
   "name": "python"
  },
  "orig_nbformat": 4
 },
 "nbformat": 4,
 "nbformat_minor": 2
}
