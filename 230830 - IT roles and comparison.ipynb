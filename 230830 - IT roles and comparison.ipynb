{
 "cells": [
  {
   "cell_type": "code",
   "execution_count": null,
   "metadata": {},
   "outputs": [],
   "source": [
    "<script>\n",
    "  function code_toggle() {\n",
    "    if (code_shown){\n",
    "      $('div.input').hide('500');\n",
    "      $('#toggleButton').val('Show Code')\n",
    "    } else {\n",
    "      $('div.input').show('500');\n",
    "      $('#toggleButton').val('Hide Code')\n",
    "    }\n",
    "    code_shown = !code_shown\n",
    "  }\n",
    "\n",
    "  $( document ).ready(function(){\n",
    "    code_shown=false;\n",
    "    $('div.input').hide()\n",
    "  });\n",
    "</script>\n",
    "<form action=\"javascript:code_toggle()\"><input type=\"submit\" id=\"toggleButton\" value=\"Show Code\"></form>"
   ]
  },
  {
   "cell_type": "markdown",
   "metadata": {},
   "source": [
    "# ROLES & COMPARISON\n",
    "\n",
    "### Introduction\n",
    "\n",
    "there are various position in IT field, furthermore every field has its own sector and specialty. To focus on, we need to understand that field of data and information technology. This field I can say that, its divided into four (4) department\n",
    "\n",
    "* 1. Software Engineering\n",
    "* 2. Data Engineering\n",
    "* 3. Data Analyst\n",
    "* 4. Data Scientist\n",
    "\n",
    "Understand all the roles above will have major impact when pursuing in IT roles. today lesson I get the input from <a href=\"https://www.youtube.com/watch?v=XW0YptcgZSk\">Joma Tech / Recall by dataiku</a> he's explaining the importance of each roles mentioned above. So, all the programmers can communicate better on their job and roles.\n",
    "\n",
    "<blockquote>\"The more you know, the more you can do.\" <cite>Descartes"
   ]
  },
  {
   "cell_type": "markdown",
   "metadata": {},
   "source": [
    "</cite> </blockquote>"
   ]
  },
  {
   "cell_type": "markdown",
   "metadata": {},
   "source": []
  }
 ],
 "metadata": {
  "language_info": {
   "name": "python"
  },
  "orig_nbformat": 4
 },
 "nbformat": 4,
 "nbformat_minor": 2
}
