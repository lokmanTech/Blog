{
 "cells": [
  {
   "cell_type": "raw",
   "metadata": {},
   "source": [
    "<script>\n",
    "  function code_toggle() {\n",
    "    if (code_shown){\n",
    "      $('div.input').hide('500');\n",
    "      $('#toggleButton').val('Show Code')\n",
    "    } else {\n",
    "      $('div.input').show('500');\n",
    "      $('#toggleButton').val('Hide Code')\n",
    "    }\n",
    "    code_shown = !code_shown\n",
    "  }\n",
    "\n",
    "  $( document ).ready(function(){\n",
    "    code_shown=false;\n",
    "    $('div.input').hide()\n",
    "  });\n",
    "</script>\n",
    "<form action=\"javascript:code_toggle()\"><input type=\"submit\" id=\"toggleButton\" value=\"Show Code\"></form>"
   ]
  },
  {
   "cell_type": "markdown",
   "metadata": {},
   "source": [
    "# HTML learning curve\n",
    "\n",
    "Earlier, I've been testing out on improvising my personal portfolio website, in this context. We all know that, visualization is bigger part of our life.\n",
    "Any successful project will take form as visualization and that form consider as result. for example: we take athelete, they do the training daily, however, that was not their\n",
    "end goal. Their goal is to be winner of any particular championship they involve in. Personally, for me, I would love to see my product visualize correctly without and confusion or misleading.\n",
    "\n",
    "Currently I'm attending class from frontendmaster.com which in that platform I'm learning the fundamental of programming which using HTML as front-end for visualization.\n",
    "\n",
    "The notes from the course as listed:\n",
    "* 1. Introduction\n",
    "* 2. VS Code Setup\n",
    "* 3. Creating a folder\n",
    "* 4. Creating a HTML\n",
    "* 5. Creating Content\n",
    "* 6. Adding < p>Paragraph</ p>  & < li>List</ li>\n",
    "* 7. < ol>Ordered List Exercise & Solution</ ol>\n",
    "* 8. < a> href=\"https://creating_a_link.com\"< /a>\n",
    "* 9. < img source=\"../images\">< /img>\n",
    "\n"
   ]
  },
  {
   "cell_type": "markdown",
   "metadata": {},
   "source": [
    "<iframe src=\"https://www.linkedin.com/embed/feed/update/urn:li:share:7102224186965688320\" height=\"300\" width=\"300\" frameborder=\"0\" allowfullscreen=\"\" title=\"Embedded post\"></iframe>"
   ]
  }
 ],
 "metadata": {
  "language_info": {
   "name": "python"
  },
  "orig_nbformat": 4
 },
 "nbformat": 4,
 "nbformat_minor": 2
}
